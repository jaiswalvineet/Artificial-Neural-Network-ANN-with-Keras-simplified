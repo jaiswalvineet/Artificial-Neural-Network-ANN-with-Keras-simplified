{
 "cells": [
  {
   "cell_type": "code",
   "execution_count": 313,
   "metadata": {},
   "outputs": [],
   "source": [
    "import pandas as pd\n",
    "import os"
   ]
  },
  {
   "cell_type": "code",
   "execution_count": 315,
   "metadata": {},
   "outputs": [],
   "source": [
    "df_all_student = pd.read_csv(\"Student.csv\",encoding ='utf-8')"
   ]
  },
  {
   "cell_type": "code",
   "execution_count": 316,
   "metadata": {},
   "outputs": [
    {
     "data": {
      "text/plain": [
       "(10000, 13)"
      ]
     },
     "execution_count": 316,
     "metadata": {},
     "output_type": "execute_result"
    }
   ],
   "source": [
    "df_all_student.shape"
   ]
  },
  {
   "cell_type": "code",
   "execution_count": 317,
   "metadata": {},
   "outputs": [
    {
     "data": {
      "text/html": [
       "<div>\n",
       "<style scoped>\n",
       "    .dataframe tbody tr th:only-of-type {\n",
       "        vertical-align: middle;\n",
       "    }\n",
       "\n",
       "    .dataframe tbody tr th {\n",
       "        vertical-align: top;\n",
       "    }\n",
       "\n",
       "    .dataframe thead th {\n",
       "        text-align: right;\n",
       "    }\n",
       "</style>\n",
       "<table border=\"1\" class=\"dataframe\">\n",
       "  <thead>\n",
       "    <tr style=\"text-align: right;\">\n",
       "      <th></th>\n",
       "      <th>RowNumber</th>\n",
       "      <th>StudentId</th>\n",
       "      <th>StudentScore</th>\n",
       "      <th>School</th>\n",
       "      <th>Gender</th>\n",
       "      <th>Age</th>\n",
       "      <th>tenure</th>\n",
       "      <th>previousScore</th>\n",
       "      <th>sportsParticipated</th>\n",
       "      <th>Sibling</th>\n",
       "      <th>IsRegular</th>\n",
       "      <th>everFailed</th>\n",
       "      <th>IsFailed</th>\n",
       "    </tr>\n",
       "  </thead>\n",
       "  <tbody>\n",
       "    <tr>\n",
       "      <th>6364</th>\n",
       "      <td>6365</td>\n",
       "      <td>10034546</td>\n",
       "      <td>368</td>\n",
       "      <td>Navodaya Vidyalaya</td>\n",
       "      <td>boy</td>\n",
       "      <td>11</td>\n",
       "      <td>2</td>\n",
       "      <td>933</td>\n",
       "      <td>2</td>\n",
       "      <td>0</td>\n",
       "      <td>0</td>\n",
       "      <td>1</td>\n",
       "      <td>1</td>\n",
       "    </tr>\n",
       "    <tr>\n",
       "      <th>7569</th>\n",
       "      <td>7570</td>\n",
       "      <td>10017130</td>\n",
       "      <td>271</td>\n",
       "      <td>Navodaya Vidyalaya</td>\n",
       "      <td>boy</td>\n",
       "      <td>8</td>\n",
       "      <td>3</td>\n",
       "      <td>419</td>\n",
       "      <td>0</td>\n",
       "      <td>1</td>\n",
       "      <td>0</td>\n",
       "      <td>0</td>\n",
       "      <td>0</td>\n",
       "    </tr>\n",
       "    <tr>\n",
       "      <th>3472</th>\n",
       "      <td>3473</td>\n",
       "      <td>10000276</td>\n",
       "      <td>676</td>\n",
       "      <td>Govt Primary School</td>\n",
       "      <td>boy</td>\n",
       "      <td>8</td>\n",
       "      <td>3</td>\n",
       "      <td>322</td>\n",
       "      <td>6</td>\n",
       "      <td>0</td>\n",
       "      <td>0</td>\n",
       "      <td>0</td>\n",
       "      <td>1</td>\n",
       "    </tr>\n",
       "    <tr>\n",
       "      <th>8288</th>\n",
       "      <td>8289</td>\n",
       "      <td>10023221</td>\n",
       "      <td>803</td>\n",
       "      <td>Govt Primary School</td>\n",
       "      <td>girl</td>\n",
       "      <td>9</td>\n",
       "      <td>2</td>\n",
       "      <td>763</td>\n",
       "      <td>6</td>\n",
       "      <td>0</td>\n",
       "      <td>0</td>\n",
       "      <td>0</td>\n",
       "      <td>0</td>\n",
       "    </tr>\n",
       "    <tr>\n",
       "      <th>5048</th>\n",
       "      <td>5049</td>\n",
       "      <td>10032888</td>\n",
       "      <td>794</td>\n",
       "      <td>Govt Primary School</td>\n",
       "      <td>boy</td>\n",
       "      <td>8</td>\n",
       "      <td>3</td>\n",
       "      <td>283</td>\n",
       "      <td>4</td>\n",
       "      <td>1</td>\n",
       "      <td>0</td>\n",
       "      <td>1</td>\n",
       "      <td>1</td>\n",
       "    </tr>\n",
       "  </tbody>\n",
       "</table>\n",
       "</div>"
      ],
      "text/plain": [
       "      RowNumber  StudentId  StudentScore               School Gender  Age  \\\n",
       "6364       6365   10034546           368   Navodaya Vidyalaya    boy   11   \n",
       "7569       7570   10017130           271   Navodaya Vidyalaya    boy    8   \n",
       "3472       3473   10000276           676  Govt Primary School    boy    8   \n",
       "8288       8289   10023221           803  Govt Primary School   girl    9   \n",
       "5048       5049   10032888           794  Govt Primary School    boy    8   \n",
       "\n",
       "      tenure  previousScore  sportsParticipated  Sibling  IsRegular  \\\n",
       "6364       2            933                   2        0          0   \n",
       "7569       3            419                   0        1          0   \n",
       "3472       3            322                   6        0          0   \n",
       "8288       2            763                   6        0          0   \n",
       "5048       3            283                   4        1          0   \n",
       "\n",
       "      everFailed  IsFailed  \n",
       "6364           1         1  \n",
       "7569           0         0  \n",
       "3472           0         1  \n",
       "8288           0         0  \n",
       "5048           1         1  "
      ]
     },
     "execution_count": 317,
     "metadata": {},
     "output_type": "execute_result"
    }
   ],
   "source": [
    "df_all_student.sample(5)"
   ]
  },
  {
   "cell_type": "code",
   "execution_count": 318,
   "metadata": {},
   "outputs": [],
   "source": [
    "X=df_all_student.iloc[:, 2:12]"
   ]
  },
  {
   "cell_type": "code",
   "execution_count": 319,
   "metadata": {},
   "outputs": [],
   "source": [
    "y=df_all_student.iloc[:, 12]"
   ]
  },
  {
   "cell_type": "code",
   "execution_count": 320,
   "metadata": {},
   "outputs": [],
   "source": [
    "from sklearn.preprocessing import LabelEncoder"
   ]
  },
  {
   "cell_type": "code",
   "execution_count": 321,
   "metadata": {},
   "outputs": [],
   "source": [
    "labelencoder_X_School = LabelEncoder()\n",
    "X.iloc[:,1]= labelencoder_X_School.fit_transform(X.iloc[:, 1])"
   ]
  },
  {
   "cell_type": "code",
   "execution_count": 322,
   "metadata": {},
   "outputs": [],
   "source": [
    "labelencoder_X_Gender = LabelEncoder()\n",
    "X.iloc[:,2]= labelencoder_X_Gender.fit_transform(X.iloc[:, 2])"
   ]
  },
  {
   "cell_type": "code",
   "execution_count": 323,
   "metadata": {},
   "outputs": [
    {
     "data": {
      "text/html": [
       "<div>\n",
       "<style scoped>\n",
       "    .dataframe tbody tr th:only-of-type {\n",
       "        vertical-align: middle;\n",
       "    }\n",
       "\n",
       "    .dataframe tbody tr th {\n",
       "        vertical-align: top;\n",
       "    }\n",
       "\n",
       "    .dataframe thead th {\n",
       "        text-align: right;\n",
       "    }\n",
       "</style>\n",
       "<table border=\"1\" class=\"dataframe\">\n",
       "  <thead>\n",
       "    <tr style=\"text-align: right;\">\n",
       "      <th></th>\n",
       "      <th>StudentScore</th>\n",
       "      <th>School</th>\n",
       "      <th>Gender</th>\n",
       "      <th>Age</th>\n",
       "      <th>tenure</th>\n",
       "      <th>previousScore</th>\n",
       "      <th>sportsParticipated</th>\n",
       "      <th>Sibling</th>\n",
       "      <th>IsRegular</th>\n",
       "      <th>everFailed</th>\n",
       "    </tr>\n",
       "  </thead>\n",
       "  <tbody>\n",
       "    <tr>\n",
       "      <th>0</th>\n",
       "      <td>844</td>\n",
       "      <td>0</td>\n",
       "      <td>1</td>\n",
       "      <td>11</td>\n",
       "      <td>2</td>\n",
       "      <td>344</td>\n",
       "      <td>3</td>\n",
       "      <td>0</td>\n",
       "      <td>1</td>\n",
       "      <td>1</td>\n",
       "    </tr>\n",
       "    <tr>\n",
       "      <th>1</th>\n",
       "      <td>230</td>\n",
       "      <td>2</td>\n",
       "      <td>1</td>\n",
       "      <td>7</td>\n",
       "      <td>2</td>\n",
       "      <td>918</td>\n",
       "      <td>2</td>\n",
       "      <td>0</td>\n",
       "      <td>1</td>\n",
       "      <td>1</td>\n",
       "    </tr>\n",
       "    <tr>\n",
       "      <th>2</th>\n",
       "      <td>949</td>\n",
       "      <td>0</td>\n",
       "      <td>1</td>\n",
       "      <td>13</td>\n",
       "      <td>4</td>\n",
       "      <td>340</td>\n",
       "      <td>6</td>\n",
       "      <td>1</td>\n",
       "      <td>0</td>\n",
       "      <td>0</td>\n",
       "    </tr>\n",
       "  </tbody>\n",
       "</table>\n",
       "</div>"
      ],
      "text/plain": [
       "   StudentScore  School  Gender  Age  tenure  previousScore  \\\n",
       "0           844       0       1   11       2            344   \n",
       "1           230       2       1    7       2            918   \n",
       "2           949       0       1   13       4            340   \n",
       "\n",
       "   sportsParticipated  Sibling  IsRegular  everFailed  \n",
       "0                   3        0          1           1  \n",
       "1                   2        0          1           1  \n",
       "2                   6        1          0           0  "
      ]
     },
     "execution_count": 323,
     "metadata": {},
     "output_type": "execute_result"
    }
   ],
   "source": [
    "X.head(3)"
   ]
  },
  {
   "cell_type": "code",
   "execution_count": 324,
   "metadata": {},
   "outputs": [],
   "source": [
    "from sklearn.preprocessing import OneHotEncoder\n",
    "import numpy as np"
   ]
  },
  {
   "cell_type": "code",
   "execution_count": 325,
   "metadata": {},
   "outputs": [
    {
     "name": "stderr",
     "output_type": "stream",
     "text": [
      "C:\\Users\\vinjaisw0\\AppData\\Local\\Continuum\\anaconda3\\lib\\site-packages\\sklearn\\preprocessing\\_encoders.py:415: FutureWarning: The handling of integer data will change in version 0.22. Currently, the categories are determined based on the range [0, max(values)], while in the future they will be determined based on the unique values.\n",
      "If you want the future behaviour and silence this warning, you can specify \"categories='auto'\".\n",
      "In case you used a LabelEncoder before this OneHotEncoder to convert the categories to integers, then you can now use the OneHotEncoder directly.\n",
      "  warnings.warn(msg, FutureWarning)\n",
      "C:\\Users\\vinjaisw0\\AppData\\Local\\Continuum\\anaconda3\\lib\\site-packages\\sklearn\\preprocessing\\_encoders.py:451: DeprecationWarning: The 'categorical_features' keyword is deprecated in version 0.20 and will be removed in 0.22. You can use the ColumnTransformer instead.\n",
      "  \"use the ColumnTransformer instead.\", DeprecationWarning)\n"
     ]
    }
   ],
   "source": [
    "onehotencoder = OneHotEncoder(categorical_features = [1])\n",
    "X = onehotencoder.fit_transform(X).toarray()"
   ]
  },
  {
   "cell_type": "code",
   "execution_count": 326,
   "metadata": {},
   "outputs": [
    {
     "data": {
      "text/html": [
       "<div>\n",
       "<style scoped>\n",
       "    .dataframe tbody tr th:only-of-type {\n",
       "        vertical-align: middle;\n",
       "    }\n",
       "\n",
       "    .dataframe tbody tr th {\n",
       "        vertical-align: top;\n",
       "    }\n",
       "\n",
       "    .dataframe thead th {\n",
       "        text-align: right;\n",
       "    }\n",
       "</style>\n",
       "<table border=\"1\" class=\"dataframe\">\n",
       "  <thead>\n",
       "    <tr style=\"text-align: right;\">\n",
       "      <th></th>\n",
       "      <th>0</th>\n",
       "      <th>1</th>\n",
       "      <th>2</th>\n",
       "      <th>3</th>\n",
       "      <th>4</th>\n",
       "      <th>5</th>\n",
       "      <th>6</th>\n",
       "      <th>7</th>\n",
       "      <th>8</th>\n",
       "      <th>9</th>\n",
       "      <th>10</th>\n",
       "      <th>11</th>\n",
       "    </tr>\n",
       "  </thead>\n",
       "  <tbody>\n",
       "    <tr>\n",
       "      <th>1.0</th>\n",
       "      <td>1.0</td>\n",
       "      <td>0.0</td>\n",
       "      <td>0.0</td>\n",
       "      <td>844.0</td>\n",
       "      <td>1.0</td>\n",
       "      <td>11.0</td>\n",
       "      <td>2.0</td>\n",
       "      <td>344.0</td>\n",
       "      <td>3.0</td>\n",
       "      <td>0.0</td>\n",
       "      <td>1.0</td>\n",
       "      <td>1.0</td>\n",
       "    </tr>\n",
       "    <tr>\n",
       "      <th>0.0</th>\n",
       "      <td>0.0</td>\n",
       "      <td>0.0</td>\n",
       "      <td>1.0</td>\n",
       "      <td>230.0</td>\n",
       "      <td>1.0</td>\n",
       "      <td>7.0</td>\n",
       "      <td>2.0</td>\n",
       "      <td>918.0</td>\n",
       "      <td>2.0</td>\n",
       "      <td>0.0</td>\n",
       "      <td>1.0</td>\n",
       "      <td>1.0</td>\n",
       "    </tr>\n",
       "  </tbody>\n",
       "</table>\n",
       "</div>"
      ],
      "text/plain": [
       "      0    1    2      3    4     5    6      7    8    9    10   11\n",
       "1.0  1.0  0.0  0.0  844.0  1.0  11.0  2.0  344.0  3.0  0.0  1.0  1.0\n",
       "0.0  0.0  0.0  1.0  230.0  1.0   7.0  2.0  918.0  2.0  0.0  1.0  1.0"
      ]
     },
     "execution_count": 326,
     "metadata": {},
     "output_type": "execute_result"
    }
   ],
   "source": [
    "pd.DataFrame(X,index=X[:,0]).head(2)"
   ]
  },
  {
   "cell_type": "code",
   "execution_count": 327,
   "metadata": {},
   "outputs": [
    {
     "data": {
      "text/html": [
       "<div>\n",
       "<style scoped>\n",
       "    .dataframe tbody tr th:only-of-type {\n",
       "        vertical-align: middle;\n",
       "    }\n",
       "\n",
       "    .dataframe tbody tr th {\n",
       "        vertical-align: top;\n",
       "    }\n",
       "\n",
       "    .dataframe thead th {\n",
       "        text-align: right;\n",
       "    }\n",
       "</style>\n",
       "<table border=\"1\" class=\"dataframe\">\n",
       "  <thead>\n",
       "    <tr style=\"text-align: right;\">\n",
       "      <th></th>\n",
       "      <th>0</th>\n",
       "      <th>1</th>\n",
       "      <th>2</th>\n",
       "      <th>3</th>\n",
       "      <th>4</th>\n",
       "      <th>5</th>\n",
       "      <th>6</th>\n",
       "      <th>7</th>\n",
       "      <th>8</th>\n",
       "      <th>9</th>\n",
       "      <th>10</th>\n",
       "    </tr>\n",
       "  </thead>\n",
       "  <tbody>\n",
       "    <tr>\n",
       "      <th>0.0</th>\n",
       "      <td>0.0</td>\n",
       "      <td>0.0</td>\n",
       "      <td>844.0</td>\n",
       "      <td>1.0</td>\n",
       "      <td>11.0</td>\n",
       "      <td>2.0</td>\n",
       "      <td>344.0</td>\n",
       "      <td>3.0</td>\n",
       "      <td>0.0</td>\n",
       "      <td>1.0</td>\n",
       "      <td>1.0</td>\n",
       "    </tr>\n",
       "    <tr>\n",
       "      <th>0.0</th>\n",
       "      <td>0.0</td>\n",
       "      <td>1.0</td>\n",
       "      <td>230.0</td>\n",
       "      <td>1.0</td>\n",
       "      <td>7.0</td>\n",
       "      <td>2.0</td>\n",
       "      <td>918.0</td>\n",
       "      <td>2.0</td>\n",
       "      <td>0.0</td>\n",
       "      <td>1.0</td>\n",
       "      <td>1.0</td>\n",
       "    </tr>\n",
       "    <tr>\n",
       "      <th>0.0</th>\n",
       "      <td>0.0</td>\n",
       "      <td>0.0</td>\n",
       "      <td>949.0</td>\n",
       "      <td>1.0</td>\n",
       "      <td>13.0</td>\n",
       "      <td>4.0</td>\n",
       "      <td>340.0</td>\n",
       "      <td>6.0</td>\n",
       "      <td>1.0</td>\n",
       "      <td>0.0</td>\n",
       "      <td>0.0</td>\n",
       "    </tr>\n",
       "    <tr>\n",
       "      <th>0.0</th>\n",
       "      <td>0.0</td>\n",
       "      <td>0.0</td>\n",
       "      <td>433.0</td>\n",
       "      <td>1.0</td>\n",
       "      <td>12.0</td>\n",
       "      <td>3.0</td>\n",
       "      <td>274.0</td>\n",
       "      <td>0.0</td>\n",
       "      <td>1.0</td>\n",
       "      <td>0.0</td>\n",
       "      <td>1.0</td>\n",
       "    </tr>\n",
       "    <tr>\n",
       "      <th>0.0</th>\n",
       "      <td>0.0</td>\n",
       "      <td>1.0</td>\n",
       "      <td>322.0</td>\n",
       "      <td>1.0</td>\n",
       "      <td>9.0</td>\n",
       "      <td>2.0</td>\n",
       "      <td>434.0</td>\n",
       "      <td>1.0</td>\n",
       "      <td>1.0</td>\n",
       "      <td>1.0</td>\n",
       "      <td>0.0</td>\n",
       "    </tr>\n",
       "  </tbody>\n",
       "</table>\n",
       "</div>"
      ],
      "text/plain": [
       "      0    1      2    3     4    5      6    7    8    9    10\n",
       "0.0  0.0  0.0  844.0  1.0  11.0  2.0  344.0  3.0  0.0  1.0  1.0\n",
       "0.0  0.0  1.0  230.0  1.0   7.0  2.0  918.0  2.0  0.0  1.0  1.0\n",
       "0.0  0.0  0.0  949.0  1.0  13.0  4.0  340.0  6.0  1.0  0.0  0.0\n",
       "0.0  0.0  0.0  433.0  1.0  12.0  3.0  274.0  0.0  1.0  0.0  1.0\n",
       "0.0  0.0  1.0  322.0  1.0   9.0  2.0  434.0  1.0  1.0  1.0  0.0"
      ]
     },
     "execution_count": 327,
     "metadata": {},
     "output_type": "execute_result"
    }
   ],
   "source": [
    "X = X[:, 1:]\n",
    "pd.DataFrame(X,index=X[:,0]).head()"
   ]
  },
  {
   "cell_type": "code",
   "execution_count": 328,
   "metadata": {},
   "outputs": [],
   "source": [
    "from sklearn.model_selection import train_test_split\n",
    "X_train, X_test, y_train, y_test = train_test_split(X, y, test_size = 0.2, random_state = 0)"
   ]
  },
  {
   "cell_type": "code",
   "execution_count": 329,
   "metadata": {},
   "outputs": [],
   "source": [
    "from sklearn.preprocessing import StandardScaler\n",
    "sc = StandardScaler()\n",
    "X_train = sc.fit_transform(X_train)\n",
    "X_test = sc.transform(X_test)"
   ]
  },
  {
   "cell_type": "code",
   "execution_count": 330,
   "metadata": {},
   "outputs": [],
   "source": [
    "import keras\n",
    "from keras.models import Sequential\n",
    "from keras.layers import Dense\n",
    "from keras.layers import Dropout"
   ]
  },
  {
   "cell_type": "code",
   "execution_count": 347,
   "metadata": {},
   "outputs": [],
   "source": [
    "cf = Sequential()"
   ]
  },
  {
   "cell_type": "code",
   "execution_count": 348,
   "metadata": {},
   "outputs": [],
   "source": [
    "cf.add(Dense(units = 6, kernel_initializer = 'uniform', activation = 'relu', input_dim = 11))\n",
    "cf.add(Dropout(rate = 0.1))"
   ]
  },
  {
   "cell_type": "code",
   "execution_count": 349,
   "metadata": {},
   "outputs": [],
   "source": [
    "cf.add(Dense(units = 6, kernel_initializer = 'uniform', activation = 'relu'))\n",
    "cf.add(Dropout(rate = 0.1))\n",
    "cf.add(Dense(units = 1, kernel_initializer = 'uniform', activation = 'sigmoid'))"
   ]
  },
  {
   "cell_type": "code",
   "execution_count": 350,
   "metadata": {},
   "outputs": [],
   "source": [
    "# from ann_visualizer.visualize import ann_viz;\n",
    "# ann_viz(cf, title=\" Simple \");"
   ]
  },
  {
   "cell_type": "code",
   "execution_count": 351,
   "metadata": {},
   "outputs": [],
   "source": [
    "cf.compile(optimizer = 'adam', loss = 'binary_crossentropy', metrics = ['accuracy'])"
   ]
  },
  {
   "cell_type": "code",
   "execution_count": 352,
   "metadata": {},
   "outputs": [
    {
     "data": {
      "text/plain": [
       "(8000, 11)"
      ]
     },
     "execution_count": 352,
     "metadata": {},
     "output_type": "execute_result"
    }
   ],
   "source": [
    "X_train.shape"
   ]
  },
  {
   "cell_type": "code",
   "execution_count": 353,
   "metadata": {
    "collapsed": true,
    "jupyter": {
     "outputs_hidden": true
    }
   },
   "outputs": [
    {
     "name": "stdout",
     "output_type": "stream",
     "text": [
      "Epoch 1/100\n",
      "8000/8000 [==============================] - 3s 365us/step - loss: 0.6932 - accuracy: 0.4978\n",
      "Epoch 2/100\n",
      "8000/8000 [==============================] - 2s 229us/step - loss: 0.6932 - accuracy: 0.4994\n",
      "Epoch 3/100\n",
      "8000/8000 [==============================] - 2s 230us/step - loss: 0.6932 - accuracy: 0.4922\n",
      "Epoch 4/100\n",
      "8000/8000 [==============================] - 2s 234us/step - loss: 0.6932 - accuracy: 0.4994\n",
      "Epoch 5/100\n",
      "8000/8000 [==============================] - 2s 236us/step - loss: 0.6931 - accuracy: 0.4983\n",
      "Epoch 6/100\n",
      "8000/8000 [==============================] - 2s 217us/step - loss: 0.6929 - accuracy: 0.5173\n",
      "Epoch 7/100\n",
      "8000/8000 [==============================] - 2s 246us/step - loss: 0.6924 - accuracy: 0.5113\n",
      "Epoch 8/100\n",
      "8000/8000 [==============================] - 2s 246us/step - loss: 0.6925 - accuracy: 0.5186\n",
      "Epoch 9/100\n",
      "8000/8000 [==============================] - 2s 256us/step - loss: 0.6925 - accuracy: 0.5197\n",
      "Epoch 10/100\n",
      "8000/8000 [==============================] - 2s 247us/step - loss: 0.6924 - accuracy: 0.5220\n",
      "Epoch 11/100\n",
      "8000/8000 [==============================] - 2s 255us/step - loss: 0.6921 - accuracy: 0.5190\n",
      "Epoch 12/100\n",
      "8000/8000 [==============================] - 2s 202us/step - loss: 0.6920 - accuracy: 0.5230\n",
      "Epoch 13/100\n",
      "8000/8000 [==============================] - 2s 216us/step - loss: 0.6920 - accuracy: 0.5184\n",
      "Epoch 14/100\n",
      "8000/8000 [==============================] - 2s 207us/step - loss: 0.6921 - accuracy: 0.5294\n",
      "Epoch 15/100\n",
      "8000/8000 [==============================] - 2s 218us/step - loss: 0.6919 - accuracy: 0.5188\n",
      "Epoch 16/100\n",
      "8000/8000 [==============================] - 2s 229us/step - loss: 0.6916 - accuracy: 0.5304\n",
      "Epoch 17/100\n",
      "8000/8000 [==============================] - 2s 248us/step - loss: 0.6916 - accuracy: 0.5266\n",
      "Epoch 18/100\n",
      "8000/8000 [==============================] - 2s 217us/step - loss: 0.6916 - accuracy: 0.5303\n",
      "Epoch 19/100\n",
      "8000/8000 [==============================] - 2s 235us/step - loss: 0.6919 - accuracy: 0.5255\n",
      "Epoch 20/100\n",
      "8000/8000 [==============================] - 2s 215us/step - loss: 0.6915 - accuracy: 0.5245\n",
      "Epoch 21/100\n",
      "8000/8000 [==============================] - 2s 216us/step - loss: 0.6914 - accuracy: 0.5324\n",
      "Epoch 22/100\n",
      "8000/8000 [==============================] - 2s 229us/step - loss: 0.6911 - accuracy: 0.5303\n",
      "Epoch 23/100\n",
      "8000/8000 [==============================] - 2s 245us/step - loss: 0.6917 - accuracy: 0.5247\n",
      "Epoch 24/100\n",
      "8000/8000 [==============================] - 2s 272us/step - loss: 0.6920 - accuracy: 0.5207\n",
      "Epoch 25/100\n",
      "8000/8000 [==============================] - 2s 272us/step - loss: 0.6914 - accuracy: 0.5301\n",
      "Epoch 26/100\n",
      "8000/8000 [==============================] - 2s 277us/step - loss: 0.6918 - accuracy: 0.5259\n",
      "Epoch 27/100\n",
      "8000/8000 [==============================] - 2s 297us/step - loss: 0.6911 - accuracy: 0.5297\n",
      "Epoch 28/100\n",
      "8000/8000 [==============================] - 2s 228us/step - loss: 0.6920 - accuracy: 0.5207\n",
      "Epoch 29/100\n",
      "8000/8000 [==============================] - 2s 235us/step - loss: 0.6915 - accuracy: 0.5293\n",
      "Epoch 30/100\n",
      "8000/8000 [==============================] - 2s 209us/step - loss: 0.6919 - accuracy: 0.5305\n",
      "Epoch 31/100\n",
      "8000/8000 [==============================] - 1s 160us/step - loss: 0.6912 - accuracy: 0.5263\n",
      "Epoch 32/100\n",
      "8000/8000 [==============================] - 1s 175us/step - loss: 0.6917 - accuracy: 0.5256\n",
      "Epoch 33/100\n",
      "8000/8000 [==============================] - 1s 173us/step - loss: 0.6915 - accuracy: 0.5269\n",
      "Epoch 34/100\n",
      "8000/8000 [==============================] - 2s 197us/step - loss: 0.6912 - accuracy: 0.5314\n",
      "Epoch 35/100\n",
      "8000/8000 [==============================] - 2s 223us/step - loss: 0.6908 - accuracy: 0.5296\n",
      "Epoch 36/100\n",
      "8000/8000 [==============================] - 2s 278us/step - loss: 0.6911 - accuracy: 0.5278\n",
      "Epoch 37/100\n",
      "8000/8000 [==============================] - 2s 275us/step - loss: 0.6907 - accuracy: 0.5343\n",
      "Epoch 38/100\n",
      "8000/8000 [==============================] - 2s 274us/step - loss: 0.6907 - accuracy: 0.5326\n",
      "Epoch 39/100\n",
      "8000/8000 [==============================] - 2s 248us/step - loss: 0.6907 - accuracy: 0.5341\n",
      "Epoch 40/100\n",
      "8000/8000 [==============================] - 2s 251us/step - loss: 0.6903 - accuracy: 0.5394\n",
      "Epoch 41/100\n",
      "8000/8000 [==============================] - 2s 231us/step - loss: 0.6906 - accuracy: 0.5301\n",
      "Epoch 42/100\n",
      "8000/8000 [==============================] - 2s 235us/step - loss: 0.6903 - accuracy: 0.5311\n",
      "Epoch 43/100\n",
      "8000/8000 [==============================] - 2s 280us/step - loss: 0.6903 - accuracy: 0.5359\n",
      "Epoch 44/100\n",
      "8000/8000 [==============================] - 2s 290us/step - loss: 0.6907 - accuracy: 0.5301\n",
      "Epoch 45/100\n",
      "8000/8000 [==============================] - 2s 280us/step - loss: 0.6904 - accuracy: 0.5321\n",
      "Epoch 46/100\n",
      "8000/8000 [==============================] - 2s 235us/step - loss: 0.6898 - accuracy: 0.5412\n",
      "Epoch 47/100\n",
      "8000/8000 [==============================] - 2s 256us/step - loss: 0.6906 - accuracy: 0.5331\n",
      "Epoch 48/100\n",
      "8000/8000 [==============================] - 2s 216us/step - loss: 0.6901 - accuracy: 0.5371\n",
      "Epoch 49/100\n",
      "8000/8000 [==============================] - 2s 235us/step - loss: 0.6904 - accuracy: 0.5349\n",
      "Epoch 50/100\n",
      "8000/8000 [==============================] - 2s 215us/step - loss: 0.6903 - accuracy: 0.5343\n",
      "Epoch 51/100\n",
      "8000/8000 [==============================] - 2s 210us/step - loss: 0.6901 - accuracy: 0.5376\n",
      "Epoch 52/100\n",
      "8000/8000 [==============================] - 2s 237us/step - loss: 0.6900 - accuracy: 0.5370\n",
      "Epoch 53/100\n",
      "8000/8000 [==============================] - 2s 210us/step - loss: 0.6909 - accuracy: 0.5301\n",
      "Epoch 54/100\n",
      "8000/8000 [==============================] - 2s 209us/step - loss: 0.6906 - accuracy: 0.5294\n",
      "Epoch 55/100\n",
      "8000/8000 [==============================] - 2s 215us/step - loss: 0.6905 - accuracy: 0.5361\n",
      "Epoch 56/100\n",
      "8000/8000 [==============================] - 2s 217us/step - loss: 0.6898 - accuracy: 0.5337\n",
      "Epoch 57/100\n",
      "8000/8000 [==============================] - 2s 216us/step - loss: 0.6908 - accuracy: 0.5281\n",
      "Epoch 58/100\n",
      "8000/8000 [==============================] - 2s 215us/step - loss: 0.6906 - accuracy: 0.5332\n",
      "Epoch 59/100\n",
      "8000/8000 [==============================] - 2s 210us/step - loss: 0.6905 - accuracy: 0.5315\n",
      "Epoch 60/100\n",
      "8000/8000 [==============================] - 2s 208us/step - loss: 0.6900 - accuracy: 0.5362\n",
      "Epoch 61/100\n",
      "8000/8000 [==============================] - 2s 207us/step - loss: 0.6909 - accuracy: 0.5344\n",
      "Epoch 62/100\n",
      "8000/8000 [==============================] - 2s 211us/step - loss: 0.6906 - accuracy: 0.5355\n",
      "Epoch 63/100\n",
      "8000/8000 [==============================] - 2s 209us/step - loss: 0.6903 - accuracy: 0.5368\n",
      "Epoch 64/100\n",
      "8000/8000 [==============================] - 2s 213us/step - loss: 0.6908 - accuracy: 0.5350\n",
      "Epoch 65/100\n",
      "8000/8000 [==============================] - 2s 216us/step - loss: 0.6913 - accuracy: 0.5297\n",
      "Epoch 66/100\n",
      "8000/8000 [==============================] - 2s 210us/step - loss: 0.6903 - accuracy: 0.5312\n",
      "Epoch 67/100\n",
      "8000/8000 [==============================] - 2s 210us/step - loss: 0.6903 - accuracy: 0.5321\n",
      "Epoch 68/100\n",
      "8000/8000 [==============================] - 2s 212us/step - loss: 0.6906 - accuracy: 0.5337\n",
      "Epoch 69/100\n",
      "8000/8000 [==============================] - 2s 189us/step - loss: 0.6902 - accuracy: 0.5374\n",
      "Epoch 70/100\n",
      "8000/8000 [==============================] - 2s 269us/step - loss: 0.6905 - accuracy: 0.5339\n",
      "Epoch 71/100\n",
      "8000/8000 [==============================] - 2s 221us/step - loss: 0.6900 - accuracy: 0.5384\n",
      "Epoch 72/100\n",
      "8000/8000 [==============================] - 2s 198us/step - loss: 0.6908 - accuracy: 0.5299\n",
      "Epoch 73/100\n",
      "8000/8000 [==============================] - 1s 163us/step - loss: 0.6905 - accuracy: 0.5328\n",
      "Epoch 74/100\n",
      "8000/8000 [==============================] - 1s 161us/step - loss: 0.6902 - accuracy: 0.5304\n",
      "Epoch 75/100\n",
      "8000/8000 [==============================] - 1s 175us/step - loss: 0.6906 - accuracy: 0.5395\n",
      "Epoch 76/100\n",
      "8000/8000 [==============================] - 1s 163us/step - loss: 0.6905 - accuracy: 0.5312\n",
      "Epoch 77/100\n",
      "8000/8000 [==============================] - 1s 160us/step - loss: 0.6905 - accuracy: 0.5357\n",
      "Epoch 78/100\n",
      "8000/8000 [==============================] - 1s 180us/step - loss: 0.6906 - accuracy: 0.5315\n",
      "Epoch 79/100\n",
      "8000/8000 [==============================] - 1s 187us/step - loss: 0.6904 - accuracy: 0.5368\n",
      "Epoch 80/100\n",
      "8000/8000 [==============================] - 1s 164us/step - loss: 0.6904 - accuracy: 0.5311\n",
      "Epoch 81/100\n",
      "8000/8000 [==============================] - 1s 161us/step - loss: 0.6903 - accuracy: 0.5362\n",
      "Epoch 82/100\n",
      "8000/8000 [==============================] - 1s 174us/step - loss: 0.6910 - accuracy: 0.5369\n",
      "Epoch 83/100\n",
      "8000/8000 [==============================] - 1s 172us/step - loss: 0.6907 - accuracy: 0.5314\n",
      "Epoch 84/100\n",
      "8000/8000 [==============================] - 1s 170us/step - loss: 0.6909 - accuracy: 0.5303\n",
      "Epoch 85/100\n",
      "8000/8000 [==============================] - 1s 174us/step - loss: 0.6904 - accuracy: 0.5331\n",
      "Epoch 86/100\n",
      "8000/8000 [==============================] - 1s 161us/step - loss: 0.6907 - accuracy: 0.5314\n",
      "Epoch 87/100\n",
      "8000/8000 [==============================] - 2s 192us/step - loss: 0.6901 - accuracy: 0.5369\n",
      "Epoch 88/100\n",
      "8000/8000 [==============================] - 1s 149us/step - loss: 0.6902 - accuracy: 0.5345\n",
      "Epoch 89/100\n",
      "8000/8000 [==============================] - 1s 149us/step - loss: 0.6905 - accuracy: 0.5347\n",
      "Epoch 90/100\n",
      "8000/8000 [==============================] - 1s 152us/step - loss: 0.6902 - accuracy: 0.5336\n",
      "Epoch 91/100\n",
      "8000/8000 [==============================] - 1s 163us/step - loss: 0.6902 - accuracy: 0.5365\n",
      "Epoch 92/100\n",
      "8000/8000 [==============================] - 1s 156us/step - loss: 0.6900 - accuracy: 0.5397\n",
      "Epoch 93/100\n",
      "8000/8000 [==============================] - 1s 160us/step - loss: 0.6905 - accuracy: 0.5339\n",
      "Epoch 94/100\n",
      "8000/8000 [==============================] - 1s 167us/step - loss: 0.6901 - accuracy: 0.5345\n",
      "Epoch 95/100\n",
      "8000/8000 [==============================] - 1s 181us/step - loss: 0.6901 - accuracy: 0.5334\n",
      "Epoch 96/100\n",
      "8000/8000 [==============================] - 1s 181us/step - loss: 0.6896 - accuracy: 0.5418\n",
      "Epoch 97/100\n",
      "8000/8000 [==============================] - 1s 176us/step - loss: 0.6900 - accuracy: 0.5433\n",
      "Epoch 98/100\n",
      "8000/8000 [==============================] - 2s 202us/step - loss: 0.6901 - accuracy: 0.5400\n",
      "Epoch 99/100\n",
      "8000/8000 [==============================] - 2s 221us/step - loss: 0.6898 - accuracy: 0.5375\n",
      "Epoch 100/100\n",
      "8000/8000 [==============================] - 2s 225us/step - loss: 0.6900 - accuracy: 0.5381\n"
     ]
    },
    {
     "data": {
      "text/plain": [
       "<keras.callbacks.callbacks.History at 0x22171b0a940>"
      ]
     },
     "execution_count": 353,
     "metadata": {},
     "output_type": "execute_result"
    }
   ],
   "source": [
    "cf.fit(X_train, y_train, batch_size = 10, epochs = 100)"
   ]
  },
  {
   "cell_type": "code",
   "execution_count": 354,
   "metadata": {},
   "outputs": [],
   "source": [
    "y_prediction =cf.predict(X_test)"
   ]
  },
  {
   "cell_type": "code",
   "execution_count": 364,
   "metadata": {
    "collapsed": true,
    "jupyter": {
     "outputs_hidden": true
    }
   },
   "outputs": [
    {
     "data": {
      "text/plain": [
       "array([[ 1.75486502, -0.57369368,  0.32535301, ..., -1.002002  ,\n",
       "        -0.98117712,  0.99178375],\n",
       "       [-0.5698444 , -0.57369368, -0.73241421, ...,  0.998002  ,\n",
       "        -0.98117712,  0.99178375],\n",
       "       [-0.5698444 ,  1.74309049, -0.69355746, ..., -1.002002  ,\n",
       "        -0.98117712, -1.00828431],\n",
       "       ...,\n",
       "       [-0.5698444 ,  1.74309049,  0.66642897, ...,  0.998002  ,\n",
       "        -0.98117712,  0.99178375],\n",
       "       [ 1.75486502, -0.57369368, -0.24022865, ...,  0.998002  ,\n",
       "        -0.98117712,  0.99178375],\n",
       "       [ 1.75486502, -0.57369368,  0.86503016, ..., -1.002002  ,\n",
       "        -0.98117712, -1.00828431]])"
      ]
     },
     "execution_count": 364,
     "metadata": {},
     "output_type": "execute_result"
    }
   ],
   "source": [
    "X_test"
   ]
  },
  {
   "cell_type": "code",
   "execution_count": 374,
   "metadata": {
    "collapsed": true,
    "jupyter": {
     "outputs_hidden": true
    }
   },
   "outputs": [
    {
     "data": {
      "text/plain": [
       "array([[ 1.75486502, -0.57369368,  0.32535301,  1.09168714,  0.79424936,\n",
       "        -0.00459255,  0.59821525, -0.64097409, -1.002002  , -0.98117712,\n",
       "         0.99178375],\n",
       "       [-0.5698444 , -0.57369368, -0.73241421,  1.09168714,  1.18041655,\n",
       "        -1.2292738 ,  1.4695826 ,  1.53421584,  0.998002  , -0.98117712,\n",
       "         0.99178375]])"
      ]
     },
     "execution_count": 374,
     "metadata": {},
     "output_type": "execute_result"
    }
   ],
   "source": [
    "X_test[0:2,:]"
   ]
  },
  {
   "cell_type": "code",
   "execution_count": 376,
   "metadata": {},
   "outputs": [
    {
     "data": {
      "text/plain": [
       "array([[0.46952206]], dtype=float32)"
      ]
     },
     "execution_count": 376,
     "metadata": {},
     "output_type": "execute_result"
    }
   ],
   "source": [
    "cf.predict(X_test[0:1,:])"
   ]
  },
  {
   "cell_type": "code",
   "execution_count": 373,
   "metadata": {},
   "outputs": [],
   "source": [
    "# pd.DataFrame(y_prediction,index=y_prediction[:,0]).head()"
   ]
  },
  {
   "cell_type": "code",
   "execution_count": null,
   "metadata": {},
   "outputs": [],
   "source": [
    "from keras.wrappers.scikit_learn import KerasClassifier\n",
    "from sklearn.model_selection import cross_val_score\n",
    "def kera_classifier():\n",
    "    cf = Sequential()\n",
    "    cf.add(Dense(units = 6, kernel_initializer = 'uniform', activation = 'relu', input_dim = 11))\n",
    "    cf.add(Dense(units = 6, kernel_initializer = 'uniform', activation = 'relu'))\n",
    "    cf.add(Dense(units = 1, kernel_initializer = 'uniform', activation = 'sigmoid'))\n",
    "    cf.compile(optimizer = 'adam', loss = 'binary_crossentropy', metrics = ['accuracy'])\n",
    "    return cf\n",
    "cf = KerasClassifier(build_fn = kera_classifier, batch_size = 10, epochs = 100)\n",
    "accuracies = cross_val_score(estimator = cf, X = X_train, y = y_train, cv = 10, n_jobs = -1)\n",
    "mean = accuracies.mean()\n",
    "variance = accuracies.std()"
   ]
  },
  {
   "cell_type": "code",
   "execution_count": null,
   "metadata": {},
   "outputs": [],
   "source": [
    "from keras.wrappers.scikit_learn import KerasClassifier\n",
    "from sklearn.model_selection import GridSearchCV\n",
    "def kera_classifier(optimizer):\n",
    "    cf = Sequential()\n",
    "    cf.add(Dense(units = 6, kernel_initializer = 'uniform', activation = 'relu', input_dim = 11))\n",
    "    cf.add(Dense(units = 6, kernel_initializer = 'uniform', activation = 'relu'))\n",
    "    cf.add(Dense(units = 1, kernel_initializer = 'uniform', activation = 'sigmoid'))\n",
    "    cf.compile(optimizer = optimizer, loss = 'binary_crossentropy', metrics = ['accuracy'])\n",
    "    return cf\n",
    "cf = KerasClassifier(build_fn = kera_classifier)\n",
    "parameters = {'batch_size': [10, 15],\n",
    "              'epochs': [10, 50],\n",
    "              'optimizer': ['adam', 'rmsprop']}\n",
    "gv_search = GridSearchCV(estimator = cf,\n",
    "                           param_grid = parameters,\n",
    "                           scoring = 'accuracy',\n",
    "                           cv = 10)\n",
    "gv_search = gv_search.fit(X_train, y_train)\n",
    "best_param = gv_search.best_params_\n",
    "best_acc = gv_search.best_score_"
   ]
  }
 ],
 "metadata": {
  "kernelspec": {
   "display_name": "Python 3",
   "language": "python",
   "name": "python3"
  },
  "language_info": {
   "codemirror_mode": {
    "name": "ipython",
    "version": 3
   },
   "file_extension": ".py",
   "mimetype": "text/x-python",
   "name": "python",
   "nbconvert_exporter": "python",
   "pygments_lexer": "ipython3",
   "version": "3.7.3"
  }
 },
 "nbformat": 4,
 "nbformat_minor": 4
}
